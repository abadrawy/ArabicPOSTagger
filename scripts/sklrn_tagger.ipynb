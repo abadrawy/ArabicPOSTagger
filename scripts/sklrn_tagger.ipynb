{
 "cells": [
  {
   "cell_type": "code",
   "execution_count": 1,
   "metadata": {
    "collapsed": false
   },
   "outputs": [
    {
     "name": "stdout",
     "output_type": "stream",
     "text": [
      "[('CONJ', 'و'), ('ADP', 'ل'), ('PRON', 'ه'), ('ADP', 'في'), ('NOUN', 'حقل'), ('NOUN', 'الترجمة'), ('NOUN', 'أعمال'), ('ADJ', 'عدة'), ('ADP', 'من'), ('NOUN', 'أبرز'), ('PRON', 'ها'), ('NOUN', 'رواية'), ('NOUN', 'الكاتب'), ('ADJ', 'الفرنسي'), ('X', ''), ('PUNCT', '»'), ('X', ''), ('X', ''), ('PUNCT', '«'), ('CONJ', 'و'), ('VERB', 'قيل'), ('CONJ', 'إن'), ('PRON', 'ها'), ('ADP', 'من'), ('NOUN', 'أفضل'), ('NOUN', 'الترجمات'), ('PRON', 'التي'), ('VERB', 'عرفت'), ('PRON', 'ها'), ('PRON', 'هذه'), ('NOUN', 'الرواية'), ('PUNCT', '.')]\n",
      "2995\n"
     ]
    }
   ],
   "source": [
    "from time import time\n",
    "import numpy as np\n",
    "from sklearn import tree\n",
    "from sklearn import svm\n",
    "from sklearn.model_selection import GridSearchCV\n",
    "from sklearn.ensemble import RandomForestClassifier\n",
    "from sklearn.ensemble import AdaBoostClassifier\n",
    "from sklearn.naive_bayes import GaussianNB\n",
    "from sklearn.naive_bayes import BernoulliNB\n",
    "from sklearn.feature_selection import SelectKBest\n",
    "from sklearn.feature_selection import chi2\n",
    "from sklearn.feature_selection import f_classif\n",
    "from sklearn.feature_selection import  mutual_info_classif\n",
    "from sklearn.feature_selection import SelectPercentile\n",
    "from sklearn.metrics import accuracy_score\n",
    "import to_word2vec as w\n",
    "import feature_extract as f"
   ]
  },
  {
   "cell_type": "code",
   "execution_count": 2,
   "metadata": {
    "collapsed": true
   },
   "outputs": [],
   "source": [
    "\n",
    "def sklearnClassification(clf):\n",
    "    \"\"\"\n",
    "    Ishould victoize then split \n",
    "    \"\"\"\n",
    "    \n",
    "    featuers_train,feauters_test,labels_train,labels_test,f_names =f.split_data(False)\n",
    "    \n",
    "    print(\"featuer train shape\",featuers_train.shape[1])\n",
    "    \n",
    "    #if(featureSelection):\n",
    "        #features_train,feauters_test,_=f.featureSelection(featuers_train,feauters_test,labels_train)\n",
    "        \n",
    "    t0 = time()\n",
    "    print(\"start fit\")\n",
    "    clf.fit(featuers_train,labels_train)\n",
    "    print (\"Training time:\", round(time()-t0, 3), \"s\")\n",
    "    print(\"start pred\")\n",
    "    pred=clf.predict(feauters_test)\n",
    "    print(accuracy_score(labels_test, pred))\n",
    "    \n"
   ]
  },
  {
   "cell_type": "code",
   "execution_count": 3,
   "metadata": {
    "collapsed": true
   },
   "outputs": [],
   "source": [
    "def SKparam_tunning(k):\n",
    "    featuers_train,feauters_test,labels_train,labels_test =f.split_data()\n",
    "    featuers_train,feauters_test,_=f.victorize( featuers_train,feauters_test)\n",
    "    Cs = [0.001, 0.01, 0.1, 1, 10,100,1000,10000]\n",
    "    gammas = [0.001, 0.01, 0.1, 1,10,100,1000,10000]\n",
    "    param_grid = {'C': Cs,'gamma':gammas}\n",
    "    grid_search =GridSearchCV(svm.SVC(kernel=k), param_grid)\n",
    "    grid_search.fit(featuers_train,labels_train)\n",
    "    print(\"best\",grid_search.best_params_)"
   ]
  },
  {
   "cell_type": "code",
   "execution_count": 22,
   "metadata": {
    "collapsed": false
   },
   "outputs": [
    {
     "name": "stdout",
     "output_type": "stream",
     "text": [
      "tokB 101206 tokA 76160 tokbb1 101206\n",
      "featuer train shape 88610\n",
      "start fit\n",
      "Training time: 7.228 s\n",
      "start pred\n",
      "0.93356092437\n"
     ]
    }
   ],
   "source": [
    "clf = svm.LinearSVC(C=1)\n",
    "sklearnClassification(clf)"
   ]
  },
  {
   "cell_type": "code",
   "execution_count": null,
   "metadata": {
    "collapsed": false
   },
   "outputs": [
    {
     "name": "stdout",
     "output_type": "stream",
     "text": [
      "tokB 101206 tokA 76160 tokbb1 101206\n",
      "featuer train shape 88610\n",
      "start fit\n"
     ]
    }
   ],
   "source": [
    "clf = svm.SVC(kernel=\"poly\",C=1,gamma=1000)\n",
    "sklearnClassification(clf)"
   ]
  },
  {
   "cell_type": "code",
   "execution_count": null,
   "metadata": {
    "collapsed": false
   },
   "outputs": [
    {
     "name": "stdout",
     "output_type": "stream",
     "text": [
      "tokB 101206 tokA 76160 tokbb1 101206\n",
      "featuer train shape 88610\n",
      "start fit\n"
     ]
    }
   ],
   "source": [
    "clf = svm.SVC(kernel=\"rbf\",C=1,gamma=1000)\n",
    "sklearnClassification(clf)\n"
   ]
  },
  {
   "cell_type": "code",
   "execution_count": 7,
   "metadata": {
    "collapsed": false
   },
   "outputs": [
    {
     "name": "stdout",
     "output_type": "stream",
     "text": [
      "tokB 101206 tokA 76160 tokbb1 101206\n",
      "featuer train shape 88610\n",
      "start fit\n",
      "Training time: 363.278 s\n",
      "start pred\n",
      "0.502783613445\n"
     ]
    }
   ],
   "source": [
    "clf = svm.SVC(kernel=\"sigmoid\",C=1,gamma=1000)\n",
    "sklearnClassification(clf)"
   ]
  },
  {
   "cell_type": "code",
   "execution_count": 6,
   "metadata": {
    "collapsed": false
   },
   "outputs": [
    {
     "name": "stdout",
     "output_type": "stream",
     "text": [
      "tokB 101206 tokA 76160 tokbb1 101206\n",
      "featuer train shape 88610\n",
      "start fit\n",
      "Training time: 21.434 s\n",
      "start pred\n",
      "0.913760504202\n"
     ]
    }
   ],
   "source": [
    "clf = tree.DecisionTreeClassifier(criterion=\"entropy\")\n",
    "sklearnClassification(clf)\n"
   ]
  },
  {
   "cell_type": "code",
   "execution_count": 5,
   "metadata": {
    "collapsed": false
   },
   "outputs": [
    {
     "name": "stdout",
     "output_type": "stream",
     "text": [
      "tokB 101206 tokA 76160 tokbb1 101398\n",
      "featuer train shape 88610\n",
      "start fit\n",
      "Training time: 175.536 s\n",
      "start pred\n",
      "0.916071428571\n"
     ]
    }
   ],
   "source": [
    "clf=RandomForestClassifier(criterion=\"entropy\",max_features=None,n_estimators=50,min_samples_leaf=3,n_jobs=4)\n",
    "sklearnClassification(clf)\n"
   ]
  },
  {
   "cell_type": "code",
   "execution_count": 4,
   "metadata": {
    "collapsed": false
   },
   "outputs": [
    {
     "name": "stdout",
     "output_type": "stream",
     "text": [
      "tokB 101398 tokA 76352 tokbb1 113700\n",
      "featuer train shape 88397\n",
      "start fit\n",
      "Training time: 0.087 s\n",
      "start pred\n",
      "0.856506705784\n"
     ]
    }
   ],
   "source": [
    "clf=BernoulliNB()\n",
    "sklearnClassification(clf)\n"
   ]
  }
 ],
 "metadata": {
  "kernelspec": {
   "display_name": "Python 3",
   "language": "python",
   "name": "python3"
  },
  "language_info": {
   "codemirror_mode": {
    "name": "ipython",
    "version": 3
   },
   "file_extension": ".py",
   "mimetype": "text/x-python",
   "name": "python",
   "nbconvert_exporter": "python",
   "pygments_lexer": "ipython3",
   "version": "3.6.3"
  }
 },
 "nbformat": 4,
 "nbformat_minor": 2
}
