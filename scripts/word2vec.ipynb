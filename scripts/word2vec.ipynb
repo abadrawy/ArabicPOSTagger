{
 "cells": [
  {
   "cell_type": "code",
   "execution_count": 2,
   "metadata": {
    "collapsed": true
   },
   "outputs": [],
   "source": [
    "import warnings\n",
    "warnings.filterwarnings(action='ignore', category=UserWarning, module='gensim')\n",
    "import gzip\n",
    "import gensim\n",
    "import glob\n",
    "from time import time\n",
    "import multiprocessing\n",
    "import re\n",
    "import os\n",
    "assert gensim.models.word2vec.FAST_VERSION >-1\n",
    "cores = multiprocessing.cpu_count()"
   ]
  },
  {
   "cell_type": "code",
   "execution_count": 3,
   "metadata": {
    "collapsed": true
   },
   "outputs": [],
   "source": [
    "class MySentences(object):\n",
    "    def __init__(self, dirname):\n",
    "        self.dirname = dirname\n",
    " \n",
    "    def __iter__(self):\n",
    "        for fname in glob.glob(self.dirname+'/*/*'): \n",
    "            with gzip.open(fname, mode='rt',encoding='utf-8') as f:\n",
    "                for line in f:\n",
    "                    l= re.sub('[a-zA-Z]+', ' ', line)\n",
    "                    li = re.sub('[_=/@&;!.،:\"؟><,»«)(*-]', '', l)\n",
    "                    sent=li.strip().split(\" \")\n",
    "                    if len(sent)!=1:\n",
    "                     yield sent\n",
    "            print(\"fname\",fname)"
   ]
  },
  {
   "cell_type": "code",
   "execution_count": 4,
   "metadata": {
    "collapsed": false
   },
   "outputs": [
    {
     "name": "stdout",
     "output_type": "stream",
     "text": [
      "testing 0\n"
     ]
    }
   ],
   "source": [
    "sentences = MySentences(os.path.realpath('..')+'/LDC2009T30-Arabic_Gigaword_Fourth_Edition/dist/data') \n",
    "print(\"testing\",len(glob.glob(os.path.realpath('..')+'/LDC2009T30-Arabic_Gigaword_Fourth_Edition/dist/data'+'/*/*')))"
   ]
  },
  {
   "cell_type": "code",
   "execution_count": null,
   "metadata": {
    "collapsed": true
   },
   "outputs": [],
   "source": [
    "t0 = time()\n",
    "print(\"start\")\n",
    "model = gensim.models.Word2Vec(sentences,workers=cores,size=1000,min_count=10)\n",
    "print (\"Training time:\", round(time()-t0, 3), \"s\")"
   ]
  },
  {
   "cell_type": "code",
   "execution_count": null,
   "metadata": {
    "collapsed": true
   },
   "outputs": [],
   "source": [
    "model.save(os.path.realpath('..')+'/word2vecModels/word2vec_1000')"
   ]
  }
 ],
 "metadata": {
  "kernelspec": {
   "display_name": "Python 3",
   "language": "python",
   "name": "python3"
  },
  "language_info": {
   "codemirror_mode": {
    "name": "ipython",
    "version": 3
   },
   "file_extension": ".py",
   "mimetype": "text/x-python",
   "name": "python",
   "nbconvert_exporter": "python",
   "pygments_lexer": "ipython3",
   "version": "3.6.3"
  }
 },
 "nbformat": 4,
 "nbformat_minor": 2
}
